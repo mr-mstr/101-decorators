{
 "cells": [
  {
   "attachments": {},
   "cell_type": "markdown",
   "id": "11e3cc7d",
   "metadata": {},
   "source": [
    "What's syntatic sugar and why are decorators often referred to as syntatic sugar?\n",
    "\n",
    "A decorator is a function that takes another function and extends the behavior of the decorated function without explicitly modifying its code. In Python, decorators are implemented using the @ symbol, which is placed before the function definition.\n",
    "\n",
    "Decorators are often referred to as \"syntactic sugar\" because they provide a concise syntax for extending the functionality of a function, but they do not add any new functionality that could not be achieved by other means. Essentially, decorators are a convenient way to wrap a function in another function and modify its behavior, without changing the function's code.\n",
    "\n",
    "For example, consider the following code:\n"
   ]
  },
  {
   "cell_type": "code",
   "execution_count": 9,
   "id": "9a221633",
   "metadata": {},
   "outputs": [
    {
     "name": "stdout",
     "output_type": "stream",
     "text": [
      "Before the decorated function\n",
      "Hello!\n",
      "After the decorated function\n"
     ]
    }
   ],
   "source": [
    "def decorator(func):\n",
    "    def wrapper():\n",
    "        print(\"Before the decorated function\")\n",
    "        func()\n",
    "        print(\"After the decorated function\")\n",
    "    return wrapper\n",
    "\n",
    "@decorator\n",
    "def say_hello():\n",
    "    print(\"Hello!\")\n",
    "\n",
    "say_hello()"
   ]
  },
  {
   "attachments": {},
   "cell_type": "markdown",
   "id": "b8866ae5",
   "metadata": {},
   "source": [
    "The decorator function takes another function as an argument and returns a wrapper function that prints a message before and after the decorated function is called. The @decorator syntax is equivalent to:"
   ]
  },
  {
   "cell_type": "code",
   "execution_count": null,
   "id": "b0c2ddff",
   "metadata": {},
   "outputs": [],
   "source": [
    "say_hello = decorator(say_hello)\n",
    "\n",
    "say_hello()"
   ]
  },
  {
   "attachments": {},
   "cell_type": "markdown",
   "id": "26af22a5",
   "metadata": {},
   "source": [
    "When the say_hello function is called, the output will be:\n",
    "\n",
    "Before the decorated function:\n",
    "> Hello!\n",
    "\n",
    "After the decorated function\n"
   ]
  },
  {
   "attachments": {},
   "cell_type": "markdown",
   "id": "d43d6036",
   "metadata": {},
   "source": [
    "In this example, the decorator provides a convenient way to extend the behavior of the say_hello function without modifying its code. The decorator syntax is a shorthand for calling the decorator function and assigning the returned wrapper function to the original function name."
   ]
  }
 ],
 "metadata": {
  "kernelspec": {
   "display_name": "venv",
   "language": "python",
   "name": "python3"
  },
  "language_info": {
   "codemirror_mode": {
    "name": "ipython",
    "version": 3
   },
   "file_extension": ".py",
   "mimetype": "text/x-python",
   "name": "python",
   "nbconvert_exporter": "python",
   "pygments_lexer": "ipython3",
   "version": "3.10.6"
  },
  "vscode": {
   "interpreter": {
    "hash": "328682ed286269e09b13ee48469dda363957b73967948b714f636a9f3bc062d6"
   }
  }
 },
 "nbformat": 4,
 "nbformat_minor": 5
}
